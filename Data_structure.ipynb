{
  "nbformat": 4,
  "nbformat_minor": 0,
  "metadata": {
    "colab": {
      "provenance": []
    },
    "kernelspec": {
      "name": "python3",
      "display_name": "Python 3"
    },
    "language_info": {
      "name": "python"
    }
  },
  "cells": [
    {
      "cell_type": "markdown",
      "source": [
        "#Python Data Strcture"
      ],
      "metadata": {
        "id": "QMnsVl5AKrmM"
      }
    },
    {
      "cell_type": "markdown",
      "source": [
        "1. What are data structures, and why are they important ?\n",
        "- Data structures are specialized formats for organizing, processing, retrieving, and storing data. They are crucial because they allow efficient data management and are fundamental for designing efficient algorithms. Common examples include lists, stacks, queues, trees, and graphs, each serving different purposes in software development.\n",
        "\n",
        "2.   Explain the difference between mutable and immutable data types with examples\n",
        "-  Mutable data types are those whose values can be changed after creation. Lists and dictionaries in Python are examples of mutable types. For instance, a list [1, 2, 3] can have elements added or removed. Immutable data types, on the other hand, cannot be changed once created. Examples include strings and tuples. For example, the string \"hello\" cannot be altered; any operation results in a new string.\n",
        "\n",
        "3.  What are the main differences between lists and tuples in Python ?\n",
        "- Lists and tuples are both sequence types in Python, but the primary difference is that lists are mutable while tuples are immutable. This means a list can be modified after creation by adding, removing, or changing elements, whereas a tuple cannot be changed once it is created.\n",
        "\n",
        "4. Describe how dictionaries store data.\n",
        "- Dictionaries in Python store data as key-value pairs. Internally, they use a hash table, which allows fast access to values based on their corresponding keys. Each key is hashed to compute an index where the value is stored.\n",
        "\n",
        "5. Why might you use a set instead of a list in Python ?\n",
        "- Sets are used instead of lists when the main goal is to store unique elements without duplicates. Since sets automatically eliminate duplicate values and offer faster membership testing, they are ideal for tasks like removing duplicates from a list or checking for set membership.\n",
        "\n",
        "6. What is a string in Python, and how is it different from a list ?\n",
        "- A string in Python is an immutable sequence of characters. Unlike lists, which are mutable and can hold various types of data, strings are limited to characters and cannot be changed after they are created.\n",
        "\n",
        "7. How do tuples ensure data integrity in Python ?\n",
        "- Tuples ensure data integrity by being immutable. Once a tuple is created, its contents cannot be changed, which makes it ideal for storing fixed collections of data that should not be modified, such as coordinates or configuration settings.\n",
        "\n",
        "8. What is a hash table, and how does it relate to dictionaries in Python ?\n",
        "- A hash table is a data structure that implements an associative array, a structure that can map keys to values. Python dictionaries use a hash table under the hood, where each key is hashed to determine where its corresponding value should be stored in memory.\n",
        "\n",
        "9.  Can lists contain different data types in Python ?\n",
        "- Yes, lists in Python can contain elements of different data types. A single list can hold integers, strings, floats, or even other lists or objects, providing great flexibility in handling diverse data.\n",
        "\n",
        "10. Explain why strings are immutable in Python.\n",
        "- Strings are immutable in Python because once a string is created, it cannot be changed. This design decision enhances performance and safety, especially when strings are used as keys in dictionaries or in concurrent programming.\n",
        "\n",
        "11. What advantages do dictionaries offer over lists for certain tasks ?\n",
        "- Dictionaries are advantageous over lists when data needs to be accessed via a unique identifier or key rather than by position. This allows for faster lookups and more meaningful data organization.\n",
        "\n",
        "12. Describe a scenario where using a tuple would be preferable over a list.\n",
        "- Tuples are preferable over lists when data should remain constant throughout the program. For example, storing fixed GPS coordinates is best done in a tuple to prevent accidental modification.\n",
        "\n",
        "13. How do sets handle duplicate values in Python ?\n",
        "- Sets automatically eliminate duplicate values. If a set is created with repeated elements, only one instance of each unique element is kept.\n",
        "\n",
        "14. How does the “in” keyword work differently for lists and dictionaries ?\n",
        "- The \"in\" keyword checks for membership. In lists, it checks if an element is present. In dictionaries, it checks if a key exists, not a value.\n",
        "\n",
        "15. Can you modify the elements of a tuple? Explain why or why not ?\n",
        "- No, elements of a tuple cannot be modified because tuples are immutable. Once defined, their elements remain fixed.\n",
        "\n",
        "16. What is a nested dictionary, and give an example of its use case ?\n",
        "- A nested dictionary is a dictionary that contains another dictionary as a value. For example, a student record could be {'name': 'Alice', 'details': {'age': 20, 'grade': 'A'}}, which helps in organizing complex data hierarchically.\n",
        "\n",
        "17.  Describe the time complexity of accessing elements in a dictionary.\n",
        "- Accessing an element in a dictionary is an O(1) operation on average due to the hash table structure, making lookups extremely fast.\n",
        "\n",
        "18.  In what situations are lists preferred over dictionaries ?\n",
        "- Lists are preferred over dictionaries when the order of data matters or when data needs to be accessed by position rather than by key.\n",
        "\n",
        "19. Why are dictionaries considered unordered, and how does that affect data retrieval?\n",
        "- Dictionaries are unordered collections, meaning their items are not stored in a specific sequence. This can affect data retrieval if the order of elements is important for the application.\n",
        "\n",
        "20. Explain the difference between a list and a dictionary in terms of data retrieval.\n",
        "- Lists retrieve data using indices, which reflect the order of insertion. Dictionaries retrieve data using keys, which are hashed, allowing for quicker access but without preserving insertion order in earlier Python versions."
      ],
      "metadata": {
        "id": "dlwsW-Fxjwt1"
      }
    },
    {
      "cell_type": "code",
      "source": [
        "#Write a code to create a string with your name and print it.\n",
        "name = \"Aaryan\"\n",
        "print(name)\n"
      ],
      "metadata": {
        "colab": {
          "base_uri": "https://localhost:8080/"
        },
        "id": "DB2TGV2_MYON",
        "outputId": "f953379a-240b-4de2-8930-b931388357cf"
      },
      "execution_count": 1,
      "outputs": [
        {
          "output_type": "stream",
          "name": "stdout",
          "text": [
            "Aaryan\n"
          ]
        }
      ]
    },
    {
      "cell_type": "code",
      "source": [
        "#Write a code to find the length of the string \"Hello World\"\n",
        "string = \"Hello World\"\n",
        "print(len(string))\n"
      ],
      "metadata": {
        "colab": {
          "base_uri": "https://localhost:8080/"
        },
        "id": "H6PxIGl0MiM6",
        "outputId": "c5731a71-2cb2-4f19-8198-839d83647151"
      },
      "execution_count": 2,
      "outputs": [
        {
          "output_type": "stream",
          "name": "stdout",
          "text": [
            "11\n"
          ]
        }
      ]
    },
    {
      "cell_type": "code",
      "source": [
        "# Write a code to slice the first 3 characters from the string \"Python Programming\"\n",
        "string = \"Python Programming\"\n",
        "print(string[:3])\n"
      ],
      "metadata": {
        "colab": {
          "base_uri": "https://localhost:8080/"
        },
        "id": "8PKXvx_sMrit",
        "outputId": "d8b591fc-2c47-4db8-c264-ca414b42e2ff"
      },
      "execution_count": 3,
      "outputs": [
        {
          "output_type": "stream",
          "name": "stdout",
          "text": [
            "Pyt\n"
          ]
        }
      ]
    },
    {
      "cell_type": "code",
      "source": [
        "#Write a code to convert the string \"hello\" to uppercase\n",
        "string = \"hello\"\n",
        "print(string.upper())\n"
      ],
      "metadata": {
        "colab": {
          "base_uri": "https://localhost:8080/"
        },
        "id": "54N__oxVM2xl",
        "outputId": "8f0d6e3c-92e1-434b-9d35-cdbba230b750"
      },
      "execution_count": 4,
      "outputs": [
        {
          "output_type": "stream",
          "name": "stdout",
          "text": [
            "HELLO\n"
          ]
        }
      ]
    },
    {
      "cell_type": "code",
      "source": [
        "#Write a code to replace the word \"apple\" with \"orange\" in the string \"I like apple\".\n",
        "string = \"I like apple\"\n",
        "print(string.replace(\"apple\", \"orange\"))\n"
      ],
      "metadata": {
        "colab": {
          "base_uri": "https://localhost:8080/"
        },
        "id": "csL6cNcSM78g",
        "outputId": "819751cf-45dc-4da8-be63-227cad96ac0f"
      },
      "execution_count": 5,
      "outputs": [
        {
          "output_type": "stream",
          "name": "stdout",
          "text": [
            "I like orange\n"
          ]
        }
      ]
    },
    {
      "cell_type": "code",
      "source": [
        "#Write a code to create a list with numbers 1 to 5 and print it.\n",
        "numbers = [1, 2, 3, 4, 5]\n",
        "print(numbers)\n"
      ],
      "metadata": {
        "colab": {
          "base_uri": "https://localhost:8080/"
        },
        "id": "8jvLA-svNFtI",
        "outputId": "e0a65d3b-6baa-4816-852f-1130630cc0e5"
      },
      "execution_count": 6,
      "outputs": [
        {
          "output_type": "stream",
          "name": "stdout",
          "text": [
            "[1, 2, 3, 4, 5]\n"
          ]
        }
      ]
    },
    {
      "cell_type": "code",
      "source": [
        "#Write a code to append the number 10 to the list [1, 2, 3, 4].\n",
        "lst = [1, 2, 3, 4]\n",
        "lst.append(10)\n",
        "print(lst)\n"
      ],
      "metadata": {
        "colab": {
          "base_uri": "https://localhost:8080/"
        },
        "id": "d21A0EeMNMbh",
        "outputId": "fb5eb1b9-f9c2-465c-b581-e32e38416ded"
      },
      "execution_count": 7,
      "outputs": [
        {
          "output_type": "stream",
          "name": "stdout",
          "text": [
            "[1, 2, 3, 4, 10]\n"
          ]
        }
      ]
    },
    {
      "cell_type": "code",
      "source": [
        "#Write a code to remove the number 3 from the list [1, 2, 3, 4, 5].\n",
        "lst = [1, 2, 3, 4, 5]\n",
        "lst.remove(3)\n",
        "print(lst)\n"
      ],
      "metadata": {
        "colab": {
          "base_uri": "https://localhost:8080/"
        },
        "id": "Zkdg_ZA3NTYd",
        "outputId": "10a55e59-d740-4967-9bcd-a4b4b75a705d"
      },
      "execution_count": 8,
      "outputs": [
        {
          "output_type": "stream",
          "name": "stdout",
          "text": [
            "[1, 2, 4, 5]\n"
          ]
        }
      ]
    },
    {
      "cell_type": "code",
      "source": [
        "#Write a code to access the second element in the list ['a', 'b', 'c', 'd'].\n",
        "lst = ['a', 'b', 'c', 'd']\n",
        "print(lst[1])\n"
      ],
      "metadata": {
        "colab": {
          "base_uri": "https://localhost:8080/"
        },
        "id": "RrlpFsLyNjhX",
        "outputId": "6ae08a1c-a968-4848-fcfb-7815980d3f3f"
      },
      "execution_count": 9,
      "outputs": [
        {
          "output_type": "stream",
          "name": "stdout",
          "text": [
            "b\n"
          ]
        }
      ]
    },
    {
      "cell_type": "code",
      "source": [
        "#Write a code to reverse the list [10, 20, 30, 40, 50].\n",
        "lst = [10, 20, 30, 40, 50]\n",
        "lst.reverse()\n",
        "print(lst)\n"
      ],
      "metadata": {
        "colab": {
          "base_uri": "https://localhost:8080/"
        },
        "id": "kygYl64INows",
        "outputId": "125301f1-c243-4bf7-a5e9-9519d87b6a96"
      },
      "execution_count": 10,
      "outputs": [
        {
          "output_type": "stream",
          "name": "stdout",
          "text": [
            "[50, 40, 30, 20, 10]\n"
          ]
        }
      ]
    },
    {
      "cell_type": "code",
      "source": [
        "#Write a code to create a tuple with the elements 100, 200, 300 and print it.\n",
        "tup = (100, 200, 300)\n",
        "print(tup)\n"
      ],
      "metadata": {
        "colab": {
          "base_uri": "https://localhost:8080/"
        },
        "id": "3XnMfANONuY0",
        "outputId": "dfc24a06-8e3e-497c-a5c3-6a0308a9e847"
      },
      "execution_count": 11,
      "outputs": [
        {
          "output_type": "stream",
          "name": "stdout",
          "text": [
            "(100, 200, 300)\n"
          ]
        }
      ]
    },
    {
      "cell_type": "code",
      "source": [
        "#Write a code to access the second-to-last element of the tuple ('red', 'green', 'blue', 'yellow').\n",
        "tuple_colors = ('red', 'green', 'blue', 'yellow')\n",
        "print(tuple_colors[-2])\n"
      ],
      "metadata": {
        "colab": {
          "base_uri": "https://localhost:8080/"
        },
        "id": "JVrSb9FLN28e",
        "outputId": "af0464fb-6e01-4f86-9db7-8478265b0ee5"
      },
      "execution_count": 12,
      "outputs": [
        {
          "output_type": "stream",
          "name": "stdout",
          "text": [
            "blue\n"
          ]
        }
      ]
    },
    {
      "cell_type": "code",
      "source": [
        "#Write a code to find the minimum number in the tuple (10, 20, 5, 15).\n",
        "tuple_nums = (10, 20, 5, 15)\n",
        "print(min(tuple_nums))\n"
      ],
      "metadata": {
        "colab": {
          "base_uri": "https://localhost:8080/"
        },
        "id": "c8TeULMtN7k6",
        "outputId": "89acab89-0965-4982-d5ee-3d52776ccb45"
      },
      "execution_count": 13,
      "outputs": [
        {
          "output_type": "stream",
          "name": "stdout",
          "text": [
            "5\n"
          ]
        }
      ]
    },
    {
      "cell_type": "code",
      "source": [
        "#Write a code to find the index of the element \"cat\" in the tuple ('dog', 'cat', 'rabbit').\n",
        "tuple_animals = ('dog', 'cat', 'rabbit')\n",
        "print(tuple_animals.index(\"cat\"))\n"
      ],
      "metadata": {
        "colab": {
          "base_uri": "https://localhost:8080/"
        },
        "id": "q7_dqQ40OFIA",
        "outputId": "1f920acc-1a94-4108-9e2f-4279ee81d69d"
      },
      "execution_count": 14,
      "outputs": [
        {
          "output_type": "stream",
          "name": "stdout",
          "text": [
            "1\n"
          ]
        }
      ]
    },
    {
      "cell_type": "code",
      "source": [
        "#Write a code to create a tuple containing three different fruits and check if \"kiwi\" is in it.\n",
        "tuple_fruits = ('apple', 'banana', 'kiwi')\n",
        "print(\"kiwi\" in tuple_fruits)\n"
      ],
      "metadata": {
        "colab": {
          "base_uri": "https://localhost:8080/"
        },
        "id": "MrGpmZP0OKPy",
        "outputId": "8fc34eb9-2510-416f-af9e-40d1ad5012bf"
      },
      "execution_count": 15,
      "outputs": [
        {
          "output_type": "stream",
          "name": "stdout",
          "text": [
            "True\n"
          ]
        }
      ]
    },
    {
      "cell_type": "code",
      "source": [
        "#Write a code to create a set with the elements 'a', 'b', 'c' and print it.\n",
        "my_set = {'a', 'b', 'c'}\n",
        "print(my_set)\n"
      ],
      "metadata": {
        "colab": {
          "base_uri": "https://localhost:8080/"
        },
        "id": "SjOqsHHkOPj1",
        "outputId": "065047ef-bf17-44ae-8699-7821a01d1778"
      },
      "execution_count": 16,
      "outputs": [
        {
          "output_type": "stream",
          "name": "stdout",
          "text": [
            "{'b', 'c', 'a'}\n"
          ]
        }
      ]
    },
    {
      "cell_type": "code",
      "source": [
        "#Write a code to clear all elements from the set {1, 2, 3, 4, 5}.\n",
        "s = {1, 2, 3, 4, 5}\n",
        "s.clear()\n",
        "print(s)\n"
      ],
      "metadata": {
        "colab": {
          "base_uri": "https://localhost:8080/"
        },
        "id": "VIBQbGvaOUAq",
        "outputId": "7b79f10d-f4e0-4cd8-bc28-cb5c8698be50"
      },
      "execution_count": 17,
      "outputs": [
        {
          "output_type": "stream",
          "name": "stdout",
          "text": [
            "set()\n"
          ]
        }
      ]
    },
    {
      "cell_type": "code",
      "source": [
        "#Write a code to remove the element 4 from the set {1, 2, 3, 4}.\n",
        "s = {1, 2, 3, 4}\n",
        "s.remove(4)\n",
        "print(s)\n"
      ],
      "metadata": {
        "colab": {
          "base_uri": "https://localhost:8080/"
        },
        "id": "4by0_8EROYAn",
        "outputId": "6d4d3d1c-747f-4bd3-833c-881e7f8701ed"
      },
      "execution_count": 18,
      "outputs": [
        {
          "output_type": "stream",
          "name": "stdout",
          "text": [
            "{1, 2, 3}\n"
          ]
        }
      ]
    },
    {
      "cell_type": "code",
      "source": [
        "#Write a code to find the union of two sets {1, 2, 3} and {3, 4, 5}.\n",
        "s1 = {1, 2, 3}\n",
        "s2 = {3, 4, 5}\n",
        "print(s1.union(s2))\n"
      ],
      "metadata": {
        "colab": {
          "base_uri": "https://localhost:8080/"
        },
        "id": "NF4vpj8cOd9z",
        "outputId": "59529c92-5fb7-407f-94e2-df4769d9ecfa"
      },
      "execution_count": 19,
      "outputs": [
        {
          "output_type": "stream",
          "name": "stdout",
          "text": [
            "{1, 2, 3, 4, 5}\n"
          ]
        }
      ]
    },
    {
      "cell_type": "code",
      "source": [
        "#Write a code to find the intersection of two sets {1, 2, 3} and {2, 3, 4}.\n",
        "s1 = {1, 2, 3}\n",
        "s2 = {2, 3, 4}\n",
        "print(s1.intersection(s2))\n"
      ],
      "metadata": {
        "colab": {
          "base_uri": "https://localhost:8080/"
        },
        "id": "t7YyAbCzOi1O",
        "outputId": "cf9ddf4e-5f83-49f6-8f4f-c98be83a361c"
      },
      "execution_count": 20,
      "outputs": [
        {
          "output_type": "stream",
          "name": "stdout",
          "text": [
            "{2, 3}\n"
          ]
        }
      ]
    },
    {
      "cell_type": "code",
      "source": [
        "# Create a dictionary with the keys \"name\", \"age\", and \"city\", and print it.\n",
        "person = {\"name\": \"John\", \"age\": 30, \"city\": \"New York\"}\n",
        "print(person)\n"
      ],
      "metadata": {
        "colab": {
          "base_uri": "https://localhost:8080/"
        },
        "id": "HDQOO8wiOoGI",
        "outputId": "933b10bb-c474-4315-ef63-1b5bac4f2613"
      },
      "execution_count": 21,
      "outputs": [
        {
          "output_type": "stream",
          "name": "stdout",
          "text": [
            "{'name': 'John', 'age': 30, 'city': 'New York'}\n"
          ]
        }
      ]
    },
    {
      "cell_type": "code",
      "source": [
        "# Add a new key-value pair \"country\": \"USA\" to the dictionary {'name': 'John', 'age': 25}.\n",
        "person = {'name': 'John', 'age': 25}\n",
        "person['country'] = 'USA'\n",
        "print(person)\n"
      ],
      "metadata": {
        "colab": {
          "base_uri": "https://localhost:8080/"
        },
        "id": "PnFHqlOQO9XT",
        "outputId": "ac4e3582-90fc-4a0c-ac58-623e6dd52efe"
      },
      "execution_count": 22,
      "outputs": [
        {
          "output_type": "stream",
          "name": "stdout",
          "text": [
            "{'name': 'John', 'age': 25, 'country': 'USA'}\n"
          ]
        }
      ]
    },
    {
      "cell_type": "code",
      "source": [
        "# Access the value associated with the key \"name\" in the dictionary {'name': 'Alice', 'age': 30}.\n",
        "data = {'name': 'Alice', 'age': 30}\n",
        "print(data['name'])\n"
      ],
      "metadata": {
        "colab": {
          "base_uri": "https://localhost:8080/"
        },
        "id": "VAE2RG0sO_ay",
        "outputId": "e191e43f-1310-4cde-e427-2e8be91e9bd2"
      },
      "execution_count": 23,
      "outputs": [
        {
          "output_type": "stream",
          "name": "stdout",
          "text": [
            "Alice\n"
          ]
        }
      ]
    },
    {
      "cell_type": "code",
      "source": [
        "# Remove the key \"age\" from the dictionary {'name': 'Bob', 'age': 22, 'city': 'New York'}.\n",
        "data = {'name': 'Bob', 'age': 22, 'city': 'New York'}\n",
        "del data['age']\n",
        "print(data)\n"
      ],
      "metadata": {
        "colab": {
          "base_uri": "https://localhost:8080/"
        },
        "id": "GbvYAGN-PBmG",
        "outputId": "4394d249-a1a2-400d-8f1e-13829939039b"
      },
      "execution_count": 24,
      "outputs": [
        {
          "output_type": "stream",
          "name": "stdout",
          "text": [
            "{'name': 'Bob', 'city': 'New York'}\n"
          ]
        }
      ]
    },
    {
      "cell_type": "code",
      "source": [
        "# Check if the key \"city\" exists in the dictionary {'name': 'Alice', 'city': 'Paris'}.\n",
        "data = {'name': 'Alice', 'city': 'Paris'}\n",
        "print(\"city\" in data)\n"
      ],
      "metadata": {
        "colab": {
          "base_uri": "https://localhost:8080/"
        },
        "id": "1wWV6l8-PEJk",
        "outputId": "34956fe3-df6f-4f48-a618-b08f21f40635"
      },
      "execution_count": 25,
      "outputs": [
        {
          "output_type": "stream",
          "name": "stdout",
          "text": [
            "True\n"
          ]
        }
      ]
    },
    {
      "cell_type": "code",
      "source": [
        "# Create a list, a tuple, and a dictionary, and print them all.\n",
        "my_list = [1, 2, 3]\n",
        "my_tuple = (4, 5, 6)\n",
        "my_dict = {'a': 1, 'b': 2}\n",
        "print(my_list, my_tuple, my_dict)\n"
      ],
      "metadata": {
        "colab": {
          "base_uri": "https://localhost:8080/"
        },
        "id": "bvHig2JTPHFZ",
        "outputId": "ad3c22b3-172c-4afd-8ab9-b0edf896f215"
      },
      "execution_count": 26,
      "outputs": [
        {
          "output_type": "stream",
          "name": "stdout",
          "text": [
            "[1, 2, 3] (4, 5, 6) {'a': 1, 'b': 2}\n"
          ]
        }
      ]
    },
    {
      "cell_type": "code",
      "source": [
        "# Create a list of 5 random numbers between 1 and 100, sort it in ascending order, and print the result.\n",
        "import random\n",
        "nums = random.sample(range(1, 101), 5)\n",
        "nums.sort()\n",
        "print(nums)\n"
      ],
      "metadata": {
        "colab": {
          "base_uri": "https://localhost:8080/"
        },
        "id": "se8A-WLGPJjp",
        "outputId": "a2979459-7bda-4788-dcad-f10455d18bd5"
      },
      "execution_count": 27,
      "outputs": [
        {
          "output_type": "stream",
          "name": "stdout",
          "text": [
            "[26, 40, 77, 86, 93]\n"
          ]
        }
      ]
    },
    {
      "cell_type": "code",
      "source": [
        "# Create a list with strings and print the element at the third index.\n",
        "words = [\"apple\", \"banana\", \"cherry\", \"date\"]\n",
        "print(words[3])\n"
      ],
      "metadata": {
        "colab": {
          "base_uri": "https://localhost:8080/"
        },
        "id": "zE0soso1PKsV",
        "outputId": "102c4400-c1a0-47c6-9700-157663ecb82e"
      },
      "execution_count": 28,
      "outputs": [
        {
          "output_type": "stream",
          "name": "stdout",
          "text": [
            "date\n"
          ]
        }
      ]
    },
    {
      "cell_type": "code",
      "source": [
        "# Combine two dictionaries into one and print the result.\n",
        "d1 = {'a': 1, 'b': 2}\n",
        "d2 = {'c': 3, 'd': 4}\n",
        "d1.update(d2)\n",
        "print(d1)\n"
      ],
      "metadata": {
        "colab": {
          "base_uri": "https://localhost:8080/"
        },
        "id": "mVnXfEvPPN6w",
        "outputId": "2ff670bb-8b78-4fc2-99ba-3176fb23fb33"
      },
      "execution_count": 29,
      "outputs": [
        {
          "output_type": "stream",
          "name": "stdout",
          "text": [
            "{'a': 1, 'b': 2, 'c': 3, 'd': 4}\n"
          ]
        }
      ]
    },
    {
      "cell_type": "code",
      "source": [
        "# Convert a list of strings into a set.\n",
        "words = [\"apple\", \"banana\", \"apple\"]\n",
        "word_set = set(words)\n",
        "print(word_set)\n"
      ],
      "metadata": {
        "colab": {
          "base_uri": "https://localhost:8080/"
        },
        "id": "3W9RgpkoPPCV",
        "outputId": "1cba84f4-b7d9-4193-b42c-a943cc59dadf"
      },
      "execution_count": 30,
      "outputs": [
        {
          "output_type": "stream",
          "name": "stdout",
          "text": [
            "{'apple', 'banana'}\n"
          ]
        }
      ]
    }
  ]
}